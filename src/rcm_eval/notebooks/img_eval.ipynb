{
 "metadata": {
  "language_info": {
   "codemirror_mode": {
    "name": "ipython",
    "version": 3
   },
   "file_extension": ".py",
   "mimetype": "text/x-python",
   "name": "python",
   "nbconvert_exporter": "python",
   "pygments_lexer": "ipython3",
   "version": "2.7.17"
  },
  "orig_nbformat": 2,
  "kernelspec": {
   "name": "python2717jvsc74a57bd0767d51c1340bd893661ea55ea3124f6de3c7a262a8b4abca0554b478b1e2ff90",
   "display_name": "Python 2.7.17 64-bit"
  },
  "metadata": {
   "interpreter": {
    "hash": "767d51c1340bd893661ea55ea3124f6de3c7a262a8b4abca0554b478b1e2ff90"
   }
  }
 },
 "nbformat": 4,
 "nbformat_minor": 2,
 "cells": [
  {
   "cell_type": "code",
   "execution_count": 5,
   "metadata": {},
   "outputs": [],
   "source": [
    "import pandas as pd\n",
    "import matplotlib.pyplot as plt\n",
    "\n",
    "import sys\n",
    "sys.path.append('/home/martin/Documents/code_snippets/visual_servo/h_rcm_vs_ws/devel/lib/python2.7/dist-packages')\n",
    "sys.path.append('/opt/ros/melodic/lib/python2.7/dist-packages')"
   ]
  },
  {
   "cell_type": "code",
   "execution_count": 7,
   "metadata": {},
   "outputs": [
    {
     "output_type": "stream",
     "name": "stdout",
     "text": [
      "task: \n",
      "  values: [0.8610779460156678, -0.08964578460982847, 0.16735159603324076, -2.5729248608156654]\n",
      "  is_velocity: False\n",
      "p_trocar: \n",
      "  position: \n",
      "    x: 0.842950384357\n",
      "    y: -0.0576833321949\n",
      "    z: 0.197737900719\n",
      "  is_empty: False\n",
      "task: \n",
      "  values: [0.8604339762528896, -0.08716591138585131, 0.16848318409087223, -2.5841530564094275]\n",
      "  is_velocity: False\n",
      "p_trocar: \n",
      "  position: \n",
      "    x: 0.843168227138\n",
      "    y: -0.0568022253925\n",
      "    z: 0.197504873343\n",
      "  is_empty: False\n",
      "task: \n",
      "  values: [0.8613842536581615, -0.08908556151116341, 0.1669812036447575, -2.777619924892306]\n",
      "  is_velocity: False\n",
      "p_trocar: \n",
      "  position: \n",
      "    x: 0.843128541379\n",
      "    y: -0.0569384651789\n",
      "    z: 0.197546829171\n",
      "  is_empty: False\n",
      "task: \n",
      "  values: [0.8592638899992672, -0.08497367004505123, 0.17034929500324, -2.7776912657669697]\n",
      "  is_velocity: False\n",
      "p_trocar: \n",
      "  position: \n",
      "    x: 0.843183713699\n",
      "    y: -0.0567363835089\n",
      "    z: 0.19748822798\n",
      "  is_empty: False\n",
      "task: \n",
      "  values: [0.8614251498006935, -0.08778059022691384, 0.16699469983827198, -2.987785130584007]\n",
      "  is_velocity: False\n",
      "p_trocar: \n",
      "  position: \n",
      "    x: 0.843390398894\n",
      "    y: -0.0561123305965\n",
      "    z: 0.197225831381\n",
      "  is_empty: False\n",
      "task: \n",
      "  values: [0.8596029304264649, -0.08538908043935461, 0.17002064421567442, -2.9764498230523424]\n",
      "  is_velocity: False\n",
      "p_trocar: \n",
      "  position: \n",
      "    x: 0.843175568439\n",
      "    y: -0.0567398293294\n",
      "    z: 0.197500127439\n",
      "  is_empty: False\n"
     ]
    }
   ],
   "source": [
    "file = '/home/martin/Documents/code_snippets/visual_servo/h_rcm_vs_ws/src/rcm_eval/data/h_gen_endoscopy_stored_views/path_0.df'\n",
    "df = pd.read_pickle(file)\n",
    "\n",
    "import cv2\n",
    "\n",
    "for _, row in df.iterrows():\n",
    "    print(row.target_rcm)\n",
    "    print(row.final_rcm)\n",
    "    cv2.imshow('target', row.target_img)\n",
    "    cv2.imshow('final', row.final_img)\n",
    "    cv2.waitKey()\n",
    "cv2.destroyAllWindows()"
   ]
  },
  {
   "cell_type": "code",
   "execution_count": null,
   "metadata": {},
   "outputs": [],
   "source": []
  }
 ]
}